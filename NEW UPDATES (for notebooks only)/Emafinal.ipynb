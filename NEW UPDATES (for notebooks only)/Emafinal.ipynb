{
 "cells": [
  {
   "cell_type": "code",
   "execution_count": 1,
   "metadata": {},
   "outputs": [],
   "source": [
    "# Import Dependencies\n",
    "import matplotlib.pyplot as plt\n",
    "import matplotlib.patches as mpatches\n",
    "import pandas as pd\n",
    "import numpy as np\n",
    "import requests\n",
    "import time\n",
    "from datetime import date\n",
    "import calendar"
   ]
  },
  {
   "cell_type": "code",
   "execution_count": 2,
   "metadata": {},
   "outputs": [
    {
     "data": {
      "text/html": [
       "<div>\n",
       "<style scoped>\n",
       "    .dataframe tbody tr th:only-of-type {\n",
       "        vertical-align: middle;\n",
       "    }\n",
       "\n",
       "    .dataframe tbody tr th {\n",
       "        vertical-align: top;\n",
       "    }\n",
       "\n",
       "    .dataframe thead th {\n",
       "        text-align: right;\n",
       "    }\n",
       "</style>\n",
       "<table border=\"1\" class=\"dataframe\">\n",
       "  <thead>\n",
       "    <tr style=\"text-align: right;\">\n",
       "      <th></th>\n",
       "      <th>Age</th>\n",
       "      <th>Gender</th>\n",
       "      <th>Race</th>\n",
       "      <th>Offenses Severity</th>\n",
       "      <th>Arrest Time of Day</th>\n",
       "      <th>Arrest Hour</th>\n",
       "      <th>Arrest Day of Week</th>\n",
       "      <th>Arrest Date</th>\n",
       "      <th>Arrest Month</th>\n",
       "      <th>Arrest Year</th>\n",
       "      <th>Temperature Range</th>\n",
       "      <th>Temperature</th>\n",
       "      <th>Weather Condition</th>\n",
       "      <th>Incident Location</th>\n",
       "      <th>Incident Latitude</th>\n",
       "      <th>Incident Longitude</th>\n",
       "      <th>Incident Neighborhood</th>\n",
       "      <th>Incident Zone</th>\n",
       "    </tr>\n",
       "  </thead>\n",
       "  <tbody>\n",
       "    <tr>\n",
       "      <th>0</th>\n",
       "      <td>24.0</td>\n",
       "      <td>F</td>\n",
       "      <td>B</td>\n",
       "      <td>Misdemeanor</td>\n",
       "      <td>Evening (9-12am)</td>\n",
       "      <td>21</td>\n",
       "      <td>Friday</td>\n",
       "      <td>12</td>\n",
       "      <td>February</td>\n",
       "      <td>2016</td>\n",
       "      <td>20s</td>\n",
       "      <td>20.53</td>\n",
       "      <td>Mostly Cloudy</td>\n",
       "      <td>1100 Block McKinney LANE Pittsburgh, PA 15205</td>\n",
       "      <td>40.423529</td>\n",
       "      <td>-80.035034</td>\n",
       "      <td>Ridgemont</td>\n",
       "      <td>6</td>\n",
       "    </tr>\n",
       "    <tr>\n",
       "      <th>1</th>\n",
       "      <td>31.0</td>\n",
       "      <td>M</td>\n",
       "      <td>W</td>\n",
       "      <td>Misdemeanor</td>\n",
       "      <td>Early Afternoon (1-4pm)</td>\n",
       "      <td>15</td>\n",
       "      <td>Wednesday</td>\n",
       "      <td>17</td>\n",
       "      <td>February</td>\n",
       "      <td>2016</td>\n",
       "      <td>30s</td>\n",
       "      <td>32.76</td>\n",
       "      <td>Overcast</td>\n",
       "      <td>800 Block Concord ST Pittsburgh, PA 15212</td>\n",
       "      <td>40.457564</td>\n",
       "      <td>-79.997924</td>\n",
       "      <td>East Allegheny</td>\n",
       "      <td>1</td>\n",
       "    </tr>\n",
       "    <tr>\n",
       "      <th>2</th>\n",
       "      <td>36.0</td>\n",
       "      <td>M</td>\n",
       "      <td>W</td>\n",
       "      <td>Misdemeanor</td>\n",
       "      <td>Early Morning (12-3am)</td>\n",
       "      <td>2</td>\n",
       "      <td>Friday</td>\n",
       "      <td>8</td>\n",
       "      <td>April</td>\n",
       "      <td>2016</td>\n",
       "      <td>30s</td>\n",
       "      <td>39.39</td>\n",
       "      <td>Overcast</td>\n",
       "      <td>Boyd ST &amp; Diamond ST Pittsburgh, PA 15219</td>\n",
       "      <td>40.438656</td>\n",
       "      <td>-79.993293</td>\n",
       "      <td>Bluff</td>\n",
       "      <td>2</td>\n",
       "    </tr>\n",
       "    <tr>\n",
       "      <th>3</th>\n",
       "      <td>60.0</td>\n",
       "      <td>M</td>\n",
       "      <td>W</td>\n",
       "      <td>Misdemeanor</td>\n",
       "      <td>Late Morning (9am-12pm)</td>\n",
       "      <td>9</td>\n",
       "      <td>Sunday</td>\n",
       "      <td>10</td>\n",
       "      <td>April</td>\n",
       "      <td>2016</td>\n",
       "      <td>30s</td>\n",
       "      <td>32.63</td>\n",
       "      <td>Overcast</td>\n",
       "      <td>Forbes AV &amp; Armstrong TUN Pittsburgh, PA 15219</td>\n",
       "      <td>40.437971</td>\n",
       "      <td>-79.992052</td>\n",
       "      <td>Bluff</td>\n",
       "      <td>2</td>\n",
       "    </tr>\n",
       "    <tr>\n",
       "      <th>4</th>\n",
       "      <td>54.0</td>\n",
       "      <td>M</td>\n",
       "      <td>B</td>\n",
       "      <td>Misdemeanor</td>\n",
       "      <td>Early Morning (12-3am)</td>\n",
       "      <td>1</td>\n",
       "      <td>Tuesday</td>\n",
       "      <td>12</td>\n",
       "      <td>April</td>\n",
       "      <td>2016</td>\n",
       "      <td>40s</td>\n",
       "      <td>47.32</td>\n",
       "      <td>Clear</td>\n",
       "      <td>1600 Block Forbes AV Pittsburgh, PA 15219</td>\n",
       "      <td>40.437377</td>\n",
       "      <td>-79.983870</td>\n",
       "      <td>Bluff</td>\n",
       "      <td>2</td>\n",
       "    </tr>\n",
       "  </tbody>\n",
       "</table>\n",
       "</div>"
      ],
      "text/plain": [
       "    Age Gender Race Offenses Severity       Arrest Time of Day  Arrest Hour  \\\n",
       "0  24.0      F    B       Misdemeanor         Evening (9-12am)           21   \n",
       "1  31.0      M    W       Misdemeanor  Early Afternoon (1-4pm)           15   \n",
       "2  36.0      M    W       Misdemeanor   Early Morning (12-3am)            2   \n",
       "3  60.0      M    W       Misdemeanor  Late Morning (9am-12pm)            9   \n",
       "4  54.0      M    B       Misdemeanor   Early Morning (12-3am)            1   \n",
       "\n",
       "  Arrest Day of Week  Arrest Date Arrest Month  Arrest Year Temperature Range  \\\n",
       "0             Friday           12     February         2016               20s   \n",
       "1          Wednesday           17     February         2016               30s   \n",
       "2             Friday            8        April         2016               30s   \n",
       "3             Sunday           10        April         2016               30s   \n",
       "4            Tuesday           12        April         2016               40s   \n",
       "\n",
       "   Temperature Weather Condition  \\\n",
       "0        20.53     Mostly Cloudy   \n",
       "1        32.76          Overcast   \n",
       "2        39.39          Overcast   \n",
       "3        32.63          Overcast   \n",
       "4        47.32             Clear   \n",
       "\n",
       "                                Incident Location  Incident Latitude  \\\n",
       "0   1100 Block McKinney LANE Pittsburgh, PA 15205          40.423529   \n",
       "1       800 Block Concord ST Pittsburgh, PA 15212          40.457564   \n",
       "2       Boyd ST & Diamond ST Pittsburgh, PA 15219          40.438656   \n",
       "3  Forbes AV & Armstrong TUN Pittsburgh, PA 15219          40.437971   \n",
       "4       1600 Block Forbes AV Pittsburgh, PA 15219          40.437377   \n",
       "\n",
       "   Incident Longitude Incident Neighborhood Incident Zone  \n",
       "0          -80.035034             Ridgemont             6  \n",
       "1          -79.997924        East Allegheny             1  \n",
       "2          -79.993293                 Bluff             2  \n",
       "3          -79.992052                 Bluff             2  \n",
       "4          -79.983870                 Bluff             2  "
      ]
     },
     "execution_count": 2,
     "metadata": {},
     "output_type": "execute_result"
    }
   ],
   "source": [
    "csv_path1= \"clean_crime_data.csv\"\n",
    "crime_df = pd.read_csv(csv_path1)\n",
    "del crime_df['Unnamed: 0']\n",
    "crime_df.head()"
   ]
  },
  {
   "cell_type": "code",
   "execution_count": 3,
   "metadata": {},
   "outputs": [
    {
     "data": {
      "text/html": [
       "<div>\n",
       "<style scoped>\n",
       "    .dataframe tbody tr th:only-of-type {\n",
       "        vertical-align: middle;\n",
       "    }\n",
       "\n",
       "    .dataframe tbody tr th {\n",
       "        vertical-align: top;\n",
       "    }\n",
       "\n",
       "    .dataframe thead th {\n",
       "        text-align: right;\n",
       "    }\n",
       "</style>\n",
       "<table border=\"1\" class=\"dataframe\">\n",
       "  <thead>\n",
       "    <tr style=\"text-align: right;\">\n",
       "      <th></th>\n",
       "      <th>Age</th>\n",
       "      <th>Arrest Hour</th>\n",
       "      <th>Arrest Date</th>\n",
       "      <th>Arrest Year</th>\n",
       "      <th>Temperature</th>\n",
       "      <th>Incident Latitude</th>\n",
       "      <th>Incident Longitude</th>\n",
       "    </tr>\n",
       "  </thead>\n",
       "  <tbody>\n",
       "    <tr>\n",
       "      <th>count</th>\n",
       "      <td>17766.000000</td>\n",
       "      <td>17766.000000</td>\n",
       "      <td>17766.000000</td>\n",
       "      <td>17766.000000</td>\n",
       "      <td>17766.000000</td>\n",
       "      <td>17766.000000</td>\n",
       "      <td>17766.000000</td>\n",
       "    </tr>\n",
       "    <tr>\n",
       "      <th>mean</th>\n",
       "      <td>32.964426</td>\n",
       "      <td>13.366093</td>\n",
       "      <td>15.594788</td>\n",
       "      <td>2017.246763</td>\n",
       "      <td>59.972805</td>\n",
       "      <td>38.073939</td>\n",
       "      <td>-75.289921</td>\n",
       "    </tr>\n",
       "    <tr>\n",
       "      <th>std</th>\n",
       "      <td>12.710878</td>\n",
       "      <td>6.375690</td>\n",
       "      <td>8.813583</td>\n",
       "      <td>0.701259</td>\n",
       "      <td>18.643190</td>\n",
       "      <td>9.499130</td>\n",
       "      <td>18.784226</td>\n",
       "    </tr>\n",
       "    <tr>\n",
       "      <th>min</th>\n",
       "      <td>10.000000</td>\n",
       "      <td>1.000000</td>\n",
       "      <td>1.000000</td>\n",
       "      <td>2016.000000</td>\n",
       "      <td>7.270000</td>\n",
       "      <td>0.000000</td>\n",
       "      <td>-80.487212</td>\n",
       "    </tr>\n",
       "    <tr>\n",
       "      <th>25%</th>\n",
       "      <td>24.000000</td>\n",
       "      <td>9.000000</td>\n",
       "      <td>8.000000</td>\n",
       "      <td>2017.000000</td>\n",
       "      <td>44.330000</td>\n",
       "      <td>40.423083</td>\n",
       "      <td>-80.005447</td>\n",
       "    </tr>\n",
       "    <tr>\n",
       "      <th>50%</th>\n",
       "      <td>30.000000</td>\n",
       "      <td>14.000000</td>\n",
       "      <td>16.000000</td>\n",
       "      <td>2017.000000</td>\n",
       "      <td>64.135000</td>\n",
       "      <td>40.447123</td>\n",
       "      <td>-79.985053</td>\n",
       "    </tr>\n",
       "    <tr>\n",
       "      <th>75%</th>\n",
       "      <td>41.000000</td>\n",
       "      <td>19.000000</td>\n",
       "      <td>23.000000</td>\n",
       "      <td>2018.000000</td>\n",
       "      <td>76.190000</td>\n",
       "      <td>40.458881</td>\n",
       "      <td>-79.930718</td>\n",
       "    </tr>\n",
       "    <tr>\n",
       "      <th>max</th>\n",
       "      <td>98.000000</td>\n",
       "      <td>23.000000</td>\n",
       "      <td>31.000000</td>\n",
       "      <td>2018.000000</td>\n",
       "      <td>90.990000</td>\n",
       "      <td>41.233036</td>\n",
       "      <td>0.000000</td>\n",
       "    </tr>\n",
       "  </tbody>\n",
       "</table>\n",
       "</div>"
      ],
      "text/plain": [
       "                Age   Arrest Hour   Arrest Date   Arrest Year   Temperature  \\\n",
       "count  17766.000000  17766.000000  17766.000000  17766.000000  17766.000000   \n",
       "mean      32.964426     13.366093     15.594788   2017.246763     59.972805   \n",
       "std       12.710878      6.375690      8.813583      0.701259     18.643190   \n",
       "min       10.000000      1.000000      1.000000   2016.000000      7.270000   \n",
       "25%       24.000000      9.000000      8.000000   2017.000000     44.330000   \n",
       "50%       30.000000     14.000000     16.000000   2017.000000     64.135000   \n",
       "75%       41.000000     19.000000     23.000000   2018.000000     76.190000   \n",
       "max       98.000000     23.000000     31.000000   2018.000000     90.990000   \n",
       "\n",
       "       Incident Latitude  Incident Longitude  \n",
       "count       17766.000000        17766.000000  \n",
       "mean           38.073939          -75.289921  \n",
       "std             9.499130           18.784226  \n",
       "min             0.000000          -80.487212  \n",
       "25%            40.423083          -80.005447  \n",
       "50%            40.447123          -79.985053  \n",
       "75%            40.458881          -79.930718  \n",
       "max            41.233036            0.000000  "
      ]
     },
     "execution_count": 3,
     "metadata": {},
     "output_type": "execute_result"
    }
   ],
   "source": [
    "crime_df.describe()"
   ]
  },
  {
   "cell_type": "code",
   "execution_count": 4,
   "metadata": {},
   "outputs": [
    {
     "data": {
      "text/plain": [
       "<function matplotlib.pyplot.show(*args, **kw)>"
      ]
     },
     "execution_count": 4,
     "metadata": {},
     "output_type": "execute_result"
    },
    {
     "data": {
      "image/png": "[encoded data removed]",
      "text/plain": [
       "<Figure size 432x288 with 1 Axes>"
      ]
     },
     "metadata": {
      "needs_background": "light"
     },
     "output_type": "display_data"
    }
   ],
   "source": [
    "#Temperature group, crime severity bar chart\n",
    "stevie_plot_df = crime_df[['Offenses Severity', 'Temperature', 'Weather Condition']].copy()\n",
    "\n",
    "\n",
    "bins = [5,25,45,65,85,1000]\n",
    "bin_names = ['5-25','25-45','45-65','65-85','>85']\n",
    "\n",
    "stevie_plot_df['Temperature Group'] = pd.cut(stevie_plot_df[\"Temperature\"],\n",
    "                                             bins,\n",
    "                                             labels=bin_names)\n",
    "\n",
    "stevie_gp1 = stevie_plot_df.groupby(['Temperature Group','Offenses Severity'])\n",
    "stevie_1_df = stevie_gp1.count()\n",
    "\n",
    "\n",
    "x_pos = []\n",
    "for x in range(len(bins) - 1):\n",
    "    x_pos.append(x*5)\n",
    "    x_pos.append(x*5+1)\n",
    "    \n",
    "    \n",
    "tick_labels = ['Felony', \"Misdemeanor\"]\n",
    "tick_labels = tick_labels *5 \n",
    "tick_locations = [x for x in x_pos]\n",
    "\n",
    "color = ['blue', 'yellow', 'green', 'red' , 'black']\n",
    "colors = []\n",
    "for x in color:\n",
    "    colors.append(x)\n",
    "    colors.append(x)\n",
    "    \n",
    "\n",
    "plt.bar(x_pos,\n",
    "        stevie_1_df['Temperature'],\n",
    "        color = colors\n",
    "       )\n",
    "\n",
    "plt.xticks(tick_locations,\n",
    "           tick_labels,\n",
    "           rotation = 'vertical'\n",
    "          )\n",
    "\n",
    "plt.title('Crime Severity by Temperature')\n",
    "\n",
    "plt.xlabel('Crime Count')\n",
    "plt.ylabel('Crime Severity')\n",
    "\n",
    "patches = []\n",
    "for x, y in zip(color, bin_names):\n",
    "    patches.append(mpatches.Patch(color= x, label= y))\n",
    "    \n",
    "plt.legend(title = 'Temperature Range',\n",
    "           handles=patches,\n",
    "           bbox_to_anchor=(1.05, 1),\n",
    "           loc=2,\n",
    "           borderaxespad=0.)\n",
    "plt.savefig(\"Plots/crime_severity_temperature.png\")\n",
    "\n",
    "plt.show"
   ]
  },
  {
   "cell_type": "markdown",
   "metadata": {},
   "source": [
    "### Luiz Peter"
   ]
  },
  {
   "cell_type": "code",
   "execution_count": 5,
   "metadata": {},
   "outputs": [
    {
     "data": {
      "image/png": "[encoded data removed]",
      "text/plain": [
       "<Figure size 432x288 with 1 Axes>"
      ]
     },
     "metadata": {
      "needs_background": "light"
     },
     "output_type": "display_data"
    }
   ],
   "source": [
    "crime_df[\"Rounded Temp\"]=round(crime_df[\"Temperature\"])\n",
    "temp_group = crime_df.groupby('Rounded Temp').count()[\"Age\"].reset_index().rename(columns={\"Age\":\"Crimes\",\n",
    "                                                                                               \"Rounded Temp\":\"Temperature (F)\"})\n",
    "temp_group.plot(kind=\"scatter\",x= \"Temperature (F)\" , y= \"Crimes\", title= \"Pittsburgh Temperature VS Crime\")\n",
    "plt.savefig('Plots/temperature_crime.png')"
   ]
  },
  {
   "cell_type": "code",
   "execution_count": 6,
   "metadata": {},
   "outputs": [
    {
     "data": {
      "image/png": "[encoded data removed]",
      "text/plain": [
       "<Figure size 432x288 with 1 Axes>"
      ]
     },
     "metadata": {},
     "output_type": "display_data"
    }
   ],
   "source": [
    "#Breaking down 15 categories into 6 total for plotting Crime VS \n",
    "crime_df[\"Weather Type\"]=crime_df[\"Weather Condition\"].replace({\"Mostly Cloudy\":\"Cloudy\",\"Overcast\":\"Cloudy\",\"Partly Cloudy\":\"Cloudy\",\n",
    "                                           \"Light Rain\":\"Rainy\",\"Drizzle\":\"Rainy\",\"Rain\":\"Rainy\",\"Clear\":\"Sunny\",\n",
    "                                           \"Light Snow\":\"Snow\",\"Flurries\":\"Snow\",\"Humid and Mostly Cloudy\":\"Humid\",\n",
    "                                            \"Humid and Overcast\":\"Humid\",\"Humid and Partly Cloudy\":\"Humid\"})\n",
    "\n",
    "temp_type = crime_df.groupby('Weather Type').count()[\"Age\"].reset_index().rename(columns={\"Age\":\"Crimes\"})\n",
    "\n",
    "\n",
    "# Weather Condition VS Percent of Crime: \n",
    " \n",
    "labels = []\n",
    "for x in temp_type['Weather Type']:\n",
    "    labels.append(x)\n",
    "\n",
    "crimes = []\n",
    "for x in temp_type['Crimes']:\n",
    "    crimes.append(x)\n",
    "    \n",
    "colors = [\"yellow\" ,\"blue\" ,\"green\", \"pink\", \"purple\", \"orange\"]\n",
    "\n",
    "explode = [.1,.3,0,0,.3,0]\n",
    "     \n",
    "plt.pie(crimes, labels=labels, explode=explode, colors=colors, autopct=\"%1.1f%%\", shadow=True, \n",
    "        pctdistance=.6, labeldistance=1, startangle=150)\n",
    "plt.title(\"Crime VS Weather Type\")\n",
    "\n",
    "plt.savefig(\"Plots/wtype_crime.png\")"
   ]
  },
  {
   "cell_type": "code",
   "execution_count": 7,
   "metadata": {},
   "outputs": [
    {
     "data": {
      "image/png": "[encoded data removed]",
      "text/plain": [
       "<Figure size 432x288 with 1 Axes>"
      ]
     },
     "metadata": {
      "needs_background": "light"
     },
     "output_type": "display_data"
    }
   ],
   "source": [
    "#PETER # Crime Frequency vs Time of Year (seasonality)\n",
    "# Group data by each month\n",
    "month_group = crime_df.groupby('Arrest Month')\n",
    "# Find total amount of crime incidents in each month\n",
    "monthly_crime = month_group['Arrest Date'].count()\n",
    "# Organize Months to appear in correct yearly order\n",
    "organized_monthly_crime = monthly_crime.reindex(['January', 'February', 'March', 'April', 'May', 'June', 'July', 'August', 'September', 'October', 'November', 'December'])\n",
    "\n",
    "\n",
    "# Graph data & edit chart\n",
    "organized_monthly_crime_chart = organized_monthly_crime.plot(kind=\"bar\", title=\"Amount of Crime Monthly (2016-2018) \", \n",
    "                                        rot='45', color='blue')\n",
    "organized_monthly_crime_chart.set_xlabel(\"Month (2016-2018)\")\n",
    "organized_monthly_crime_chart.set_ylabel(\"Crime Incidents per 1000 Incidents\")\n",
    "# Show graph\n",
    "\n",
    "plt.savefig(\"Plots/crime_by_month.png\")\n",
    "\n",
    "plt.show()"
   ]
  },
  {
   "cell_type": "code",
   "execution_count": 8,
   "metadata": {},
   "outputs": [
    {
     "data": {
      "image/png": "[encoded data removed]",
      "text/plain": [
       "<Figure size 432x288 with 1 Axes>"
      ]
     },
     "metadata": {
      "needs_background": "light"
     },
     "output_type": "display_data"
    }
   ],
   "source": [
    "# Group data by each month\n",
    "day_group = crime_df.groupby('Arrest Day of Week')\n",
    "# Find total amount of crime incidents in each month\n",
    "daily_crime = day_group['Arrest Date'].count()\n",
    "# Organize Days of Week to be in correct order\n",
    "organized_daily_crime = daily_crime.reindex(['Sunday', 'Monday', 'Tuesday', 'Wednesday', \n",
    "                                                 'Thursday', 'Friday', 'Saturday'])\n",
    "\n",
    "\n",
    "# Graph data & edit chart\n",
    "organized_daily_crime_chart = organized_daily_crime.plot(kind=\"bar\", title=\"Amount of Crime Each Day of the Week (2016-2018) \", \n",
    "                                        rot='45', color='blue')\n",
    "organized_daily_crime_chart.set_xlabel(\"Day of Week\")\n",
    "organized_daily_crime_chart.set_ylabel(\"Crime Incidents per 1000 Incidents\")\n",
    "\n",
    "plt.savefig(\"Plots/crime_by_day_of_week.png\")\n",
    "\n",
    "plt.show()"
   ]
  },
  {
   "cell_type": "code",
   "execution_count": 9,
   "metadata": {},
   "outputs": [
    {
     "data": {
      "image/png": "[encoded data removed]",
      "text/plain": [
       "<Figure size 432x288 with 1 Axes>"
      ]
     },
     "metadata": {
      "needs_background": "light"
     },
     "output_type": "display_data"
    }
   ],
   "source": [
    "#PETER # Crime Frequency vs Time of Day \n",
    "\n",
    "# Group data by each month\n",
    "day_time_group = crime_df.groupby('Arrest Time of Day')\n",
    "# Find total amount of crime incidents in each month\n",
    "day_time_crime = day_time_group['Arrest Date'].count()\n",
    "\n",
    "# Graph data & edit chart\n",
    "day_time_crime_chart = day_time_crime.plot(kind=\"bar\", title=\"Amount of Crime During Parts of the Day (2016-2018) \", \n",
    "                                        rot='45', color='blue')\n",
    "day_time_crime_chart.set_xlabel(\"Time of Day\")\n",
    "day_time_crime_chart.set_ylabel(\"Crime Incidents per 1000 Incidents\")\n",
    "\n",
    "plt.savefig(\"Plots/crime_by_time_of_day.png\")\n",
    "\n",
    "plt.show()\n",
    "\n"
   ]
  },
  {
   "cell_type": "code",
   "execution_count": 10,
   "metadata": {},
   "outputs": [
    {
     "data": {
      "image/png": "[encoded data removed]",
      "text/plain": [
       "<Figure size 1440x720 with 1 Axes>"
      ]
     },
     "metadata": {
      "needs_background": "light"
     },
     "output_type": "display_data"
    }
   ],
   "source": [
    "crime_df.boxplot(\"Temperature\", by=\"Arrest Month\", figsize=(20, 10))\n",
    "plt.savefig(\"Plots/Temperature_by_Month_boxplot.png\")"
   ]
  },
  {
   "cell_type": "code",
   "execution_count": 11,
   "metadata": {},
   "outputs": [
    {
     "data": {
      "image/png": "[encoded data removed]",
      "text/plain": [
       "<Figure size 1440x720 with 1 Axes>"
      ]
     },
     "metadata": {
      "needs_background": "light"
     },
     "output_type": "display_data"
    }
   ],
   "source": [
    "crime_df.boxplot(\"Age\", by=\"Arrest Month\", figsize=(20, 10))\n",
    "plt.savefig(\"Plots/Age_by_Month_boxplot.png\")"
   ]
  },
  {
   "cell_type": "code",
   "execution_count": 12,
   "metadata": {},
   "outputs": [
    {
     "data": {
      "image/png": "[encoded data removed]",
      "text/plain": [
       "<Figure size 1440x720 with 1 Axes>"
      ]
     },
     "metadata": {
      "needs_background": "light"
     },
     "output_type": "display_data"
    }
   ],
   "source": [
    "crime_df.boxplot(\"Arrest Hour\", by=\"Arrest Month\", figsize=(20, 10))\n",
    "plt.savefig(\"Plots/Arrest_Hour_by_Month_boxplot.png\")"
   ]
  },
  {
   "cell_type": "code",
   "execution_count": null,
   "metadata": {},
   "outputs": [],
   "source": []
  },
  {
   "cell_type": "code",
   "execution_count": null,
   "metadata": {},
   "outputs": [],
   "source": []
  },
  {
   "cell_type": "code",
   "execution_count": null,
   "metadata": {},
   "outputs": [],
   "source": []
  },
  {
   "cell_type": "code",
   "execution_count": null,
   "metadata": {},
   "outputs": [],
   "source": []
  },
  {
   "cell_type": "markdown",
   "metadata": {},
   "source": [
    "### Ema"
   ]
  },
  {
   "cell_type": "code",
   "execution_count": 13,
   "metadata": {},
   "outputs": [
    {
     "data": {
      "image/png": "[encoded data removed]",
      "text/plain": [
       "<Figure size 432x288 with 1 Axes>"
      ]
     },
     "metadata": {},
     "output_type": "display_data"
    }
   ],
   "source": [
    "gender_count = crime_df[\"Gender\"].value_counts()\n",
    "total_gender_count = crime_df[\"Gender\"].count()\n",
    "gender_percentage = (gender_count/total_gender_count) *100\n",
    "\n",
    "Gender = [\"Male\", \"Female\", \"Unknown\"]\n",
    "Percent = [gender_percentage]\n",
    "colors = [\"LightBlue\", \"Pink\", \"Black\"]\n",
    "explode = (0.1, 0.1, 0.1)\n",
    "\n",
    "\n",
    "plt.pie(gender_percentage, explode=explode, labels=Gender, colors=colors, autopct=\"%1.1f%%\", shadow=True, startangle= 240)\n",
    "plt.axis(\"equal\")\n",
    "plt.title(\"Pittsburgh Crime by Gender\")\n",
    "\n",
    "plt.savefig(\"Plots/crime_by_gender.png\")\n",
    "\n",
    "plt.show()"
   ]
  },
  {
   "cell_type": "code",
   "execution_count": 14,
   "metadata": {},
   "outputs": [
    {
     "data": {
      "image/png": "[encoded data removed]",
      "text/plain": [
       "<Figure size 576x288 with 1 Axes>"
      ]
     },
     "metadata": {
      "needs_background": "light"
     },
     "output_type": "display_data"
    }
   ],
   "source": [
    "race_group = crime_df.groupby(\"Race\")\n",
    "\n",
    "race_type_crime = race_group[\"Offenses Severity\"].count()\n",
    "\n",
    "race_plot = race_type_crime.plot(kind=\"bar\",\n",
    "                                 title=\"Race Vs Number of crimes\",\n",
    "                                 rot='45', color='orange',\n",
    "                                 figsize=(8,4),grid=True)\n",
    "\n",
    "plt.text(7,10000, ['A = Asiann']) \n",
    "plt.text(7,9500, ['B = Black'])\n",
    "plt.text(7,9000, ['H = Hispanic/Latino']) \n",
    "plt.text(7,8500, ['I = American Indian or Alaskan Native']) \n",
    "plt.text(7,8000, ['O = Others'])\n",
    "plt.text(7,7500, ['U = Unknown'])    \n",
    "plt.text(7,7000, ['W = White'])\n",
    "\n",
    "race_plot.set_xlabel(\"Races\")\n",
    "race_plot.set_ylabel(\"Number of crimes\")\n",
    "plt.savefig(\"Plots/barcrime_by_race.png\")\n",
    "plt.show()"
   ]
  },
  {
   "cell_type": "code",
   "execution_count": 15,
   "metadata": {},
   "outputs": [
    {
     "data": {
      "image/png": "[encoded data removed]",
      "text/plain": [
       "<Figure size 432x288 with 1 Axes>"
      ]
     },
     "metadata": {},
     "output_type": "display_data"
    }
   ],
   "source": [
    "races_df = crime_df.loc[:,[\"Race\"]]\n",
    "\n",
    "black_race = races_df[races_df[\"Race\"]== \"B\"].count()\n",
    "white_race = races_df[races_df[\"Race\"]== \"W\"].count()\n",
    "\n",
    "\n",
    "asian_race = races_df[races_df[\"Race\"]== \"A\"].count()\n",
    "hispanic_latino_race = races_df[races_df[\"Race\"]== \"H\"].count()\n",
    "american_indian_alaskan_native = races_df[races_df[\"Race\"]== \"I\"].count()\n",
    "others_race = races_df[races_df[\"Race\"]== \"O\"].count()\n",
    "unknown_race = races_df[races_df[\"Race\"]== \"U\"].count()\n",
    "\n",
    "\n",
    "race_otherthan_black_and_white_count = (asian_race + hispanic_latino_race + \n",
    "                                            american_indian_alaskan_native + \n",
    "                                        others_race + unknown_race)\n",
    "\n",
    "\n",
    "all_races_count = pd.concat([black_race, white_race, race_otherthan_black_and_white_count],axis=0).fillna(0)\n",
    "\n",
    "all_races_grand_total = races_df[\"Race\"].count()\n",
    "race_percentage = (all_races_count/all_races_grand_total) *100\n",
    "\n",
    "Races = [\"Black\", \"White\", \"Race Other\\nThan Black and White\"]\n",
    "Percent = [\"race percentage\"]\n",
    "colors = [\"gold\", \"green\",\"skyblue\"]\n",
    "explode = (0.1,0.1,0.1)\n",
    "\n",
    "\n",
    "plt.pie(race_percentage, explode=explode, labels= Races, colors=colors, autopct=\"%1.1f%%\", shadow=True, startangle= 240)\n",
    "plt.axis(\"equal\")\n",
    "plt.title(\"Pittsburgh Crime Race Type\")\n",
    "\n",
    "\n",
    "plt.savefig(\"Plots/piecrime_by_Race.png\")\n",
    "plt.show()"
   ]
  },
  {
   "cell_type": "code",
   "execution_count": 16,
   "metadata": {},
   "outputs": [
    {
     "data": {
      "image/png": "[encoded data removed]",
      "text/plain": [
       "<Figure size 432x288 with 1 Axes>"
      ]
     },
     "metadata": {
      "needs_background": "light"
     },
     "output_type": "display_data"
    }
   ],
   "source": [
    "bins = [0,18,25,30,35,40,45,50,55,60,65,100]\n",
    "group_labels = [\"<18\",\"18-25\",\"25-30\",\"30-35\",\"35-40\",\"40-45\",\"45-50\",\"50-55\",\n",
    "                \"55-60\",\"60-65\",\">65\"]\n",
    "\n",
    "pd.cut(crime_df[\"Age\"], bins, labels = group_labels)\n",
    "crime_df[\"Age_group\"] = pd.cut(crime_df[\"Age\"], bins, labels = group_labels) \n",
    "\n",
    "df4=crime_df.groupby([\"Offenses Severity\", \"Age_group\"])['Offenses Severity'].count().unstack(\"Age_group\").fillna(0)\n",
    "felonies = df4[:1].values[0]\n",
    "\n",
    "misdemeanor = df4[1:2].values[0]\n",
    "number_of_x = np.arange(11)\n",
    "\n",
    "p2 = plt.bar(number_of_x, misdemeanor, .35)\n",
    "p1 = plt.bar(number_of_x, felonies, .35)\n",
    "\n",
    "Age_plot = plt.xticks(number_of_x, df4.columns, rotation=45)\n",
    "\n",
    "plt.xlabel(\"Age Group\")\n",
    "plt.ylabel(\"Crime Severity Count\")\n",
    "plt.title(\"Crime Severity by Age Group\")\n",
    "\n",
    "plt.legend(labels = ['Misdemeanor','Felony'])\n",
    "plt.savefig(\"Plots/crime_severity_by_Age_group.png\")"
   ]
  },
  {
   "cell_type": "code",
   "execution_count": null,
   "metadata": {},
   "outputs": [],
   "source": []
  },
  {
   "cell_type": "code",
   "execution_count": null,
   "metadata": {},
   "outputs": [],
   "source": []
  },
  {
   "cell_type": "code",
   "execution_count": 17,
   "metadata": {},
   "outputs": [
    {
     "data": {
      "image/png": "[encoded data removed]",
      "text/plain": [
       "<Figure size 432x288 with 1 Axes>"
      ]
     },
     "metadata": {},
     "output_type": "display_data"
    }
   ],
   "source": [
    "crime_type_count = crime_df[\"Offenses Severity\"].value_counts()\n",
    "total_crime_count = crime_df[\"Offenses Severity\"].count()\n",
    "crime_percentage = (crime_type_count/total_crime_count) *100\n",
    "\n",
    "Offenses = [\"Misdemeanor\", \"Felony\"]\n",
    "Percent = [crime_percentage]\n",
    "colors = [\"Yellow\", \"Orange\"]\n",
    "explode = (0.1,0)\n",
    "\n",
    "\n",
    "plt.pie(crime_percentage, explode=explode, labels=Offenses, colors=colors, autopct=\"%1.1f%%\", shadow=True, startangle= 240)\n",
    "plt.axis(\"equal\")\n",
    "plt.title(\"Pittsburgh Crime Severitiy\")\n",
    "plt.savefig(\"Plots/crime_by_severity.png\")\n",
    "plt.show()"
   ]
  },
  {
   "cell_type": "code",
   "execution_count": null,
   "metadata": {},
   "outputs": [],
   "source": []
  },
  {
   "cell_type": "code",
   "execution_count": null,
   "metadata": {},
   "outputs": [],
   "source": []
  },
  {
   "cell_type": "code",
   "execution_count": null,
   "metadata": {},
   "outputs": [],
   "source": []
  },
  {
   "cell_type": "code",
   "execution_count": null,
   "metadata": {},
   "outputs": [],
   "source": []
  },
  {
   "cell_type": "code",
   "execution_count": 18,
   "metadata": {},
   "outputs": [
    {
     "data": {
      "image/png": "[encoded data removed]",
      "text/plain": [
       "<Figure size 432x288 with 1 Axes>"
      ]
     },
     "metadata": {
      "needs_background": "light"
     },
     "output_type": "display_data"
    }
   ],
   "source": [
    "crime_df1 = crime_df.loc[:,[\"Offenses Severity\", \"Arrest Year\", \"Arrest Month\"]]\n",
    "\n",
    "df2=crime_df1.groupby(['Offenses Severity', 'Arrest Month'])['Offenses Severity'].count().unstack('Arrest Month').fillna(0)\n",
    "\n",
    "order_list = [\"January\", \"February\", \"March\", \"April\", \n",
    "              \"May\", \"June\", \"July\", \"August\", \"September\", \n",
    "              \"October\", \"November\", \"December\"] \n",
    "\n",
    "df2 = crime_df.groupby(['Offenses Severity', 'Arrest Month'])['Offenses Severity'].count().unstack('Arrest Month').fillna(0)\n",
    "df2 = df2[order_list]\n",
    "\n",
    "df3 = crime_df.groupby(['Offenses Severity', 'Arrest Year'])['Offenses Severity'].count().unstack('Arrest Year').fillna(0)\n",
    "\n",
    "felonies = df3[:1].values[0]\n",
    "\n",
    "misdemeanor = df3[1:2].values[0]\n",
    "\n",
    "number_of_x = np.arange(3)\n",
    "p2 = plt.bar(number_of_x, misdemeanor, .35)\n",
    "p1 = plt.bar(number_of_x, felonies, .35)\n",
    "\n",
    "year_plot = plt.xticks(number_of_x, df3.columns, rotation=45)\n",
    "\n",
    "plt.xlabel(\"Years\")\n",
    "plt.ylabel(\"Crime Severity Count\")\n",
    "plt.title(\"Crime Severity by Year\")\n",
    "\n",
    "\n",
    "plt.legend(labels = ['Misdemeanor','Felony'])\n",
    "plt.savefig(\"Plots/crime_severity_by_year.png\")\n"
   ]
  },
  {
   "cell_type": "code",
   "execution_count": null,
   "metadata": {},
   "outputs": [],
   "source": []
  },
  {
   "cell_type": "code",
   "execution_count": null,
   "metadata": {},
   "outputs": [],
   "source": []
  },
  {
   "cell_type": "code",
   "execution_count": 19,
   "metadata": {},
   "outputs": [
    {
     "data": {
      "image/png": "[encoded data removed]",
      "text/plain": [
       "<Figure size 432x288 with 1 Axes>"
      ]
     },
     "metadata": {
      "needs_background": "light"
     },
     "output_type": "display_data"
    }
   ],
   "source": [
    "felonies = df2[:1].values[0]\n",
    "misdemeanor = df2[1:2].values[0]\n",
    "\n",
    "number_of_x = np.arange(12)\n",
    "\n",
    "p2 = plt.bar(number_of_x, misdemeanor, .35)\n",
    "p1 = plt.bar(number_of_x, felonies, .35)\n",
    "\n",
    "\n",
    "plt.xlabel(\"Months\")\n",
    "plt.ylabel(\"Crime Severity Count\")\n",
    "plt.title(\"Crime Severity by Month (2016 - 2018)\")\n",
    "\n",
    "plt.legend(labels = ['Misdemeanor','Felony'])\n",
    "plt.savefig(\"Plots/crime_severity_by_month.png\")"
   ]
  },
  {
   "cell_type": "code",
   "execution_count": 20,
   "metadata": {},
   "outputs": [],
   "source": [
    "import scipy.stats as stats\n"
   ]
  },
  {
   "cell_type": "code",
   "execution_count": 50,
   "metadata": {},
   "outputs": [
    {
     "data": {
      "text/html": [
       "<div>\n",
       "<style scoped>\n",
       "    .dataframe tbody tr th:only-of-type {\n",
       "        vertical-align: middle;\n",
       "    }\n",
       "\n",
       "    .dataframe tbody tr th {\n",
       "        vertical-align: top;\n",
       "    }\n",
       "\n",
       "    .dataframe thead th {\n",
       "        text-align: right;\n",
       "    }\n",
       "</style>\n",
       "<table border=\"1\" class=\"dataframe\">\n",
       "  <thead>\n",
       "    <tr style=\"text-align: right;\">\n",
       "      <th>Gender</th>\n",
       "      <th>F</th>\n",
       "      <th>M</th>\n",
       "      <th>U</th>\n",
       "    </tr>\n",
       "    <tr>\n",
       "      <th>Offenses Severity</th>\n",
       "      <th></th>\n",
       "      <th></th>\n",
       "      <th></th>\n",
       "    </tr>\n",
       "  </thead>\n",
       "  <tbody>\n",
       "    <tr>\n",
       "      <th>Felony</th>\n",
       "      <td>1380</td>\n",
       "      <td>3823</td>\n",
       "      <td>8</td>\n",
       "    </tr>\n",
       "    <tr>\n",
       "      <th>Misdemeanor</th>\n",
       "      <td>3592</td>\n",
       "      <td>8950</td>\n",
       "      <td>13</td>\n",
       "    </tr>\n",
       "  </tbody>\n",
       "</table>\n",
       "</div>"
      ],
      "text/plain": [
       "Gender                F     M   U\n",
       "Offenses Severity                \n",
       "Felony             1380  3823   8\n",
       "Misdemeanor        3592  8950  13"
      ]
     },
     "execution_count": 50,
     "metadata": {},
     "output_type": "execute_result"
    }
   ],
   "source": [
    "gender_crime = crime_df.groupby([\"Offenses Severity\", \"Gender\"])[\"Offenses Severity\"].count().unstack(\"Gender\").fillna(0)\n",
    "gender_crime"
   ]
  },
  {
   "cell_type": "code",
   "execution_count": 51,
   "metadata": {},
   "outputs": [
    {
     "data": {
      "text/html": [
       "<div>\n",
       "<style scoped>\n",
       "    .dataframe tbody tr th:only-of-type {\n",
       "        vertical-align: middle;\n",
       "    }\n",
       "\n",
       "    .dataframe tbody tr th {\n",
       "        vertical-align: top;\n",
       "    }\n",
       "\n",
       "    .dataframe thead th {\n",
       "        text-align: right;\n",
       "    }\n",
       "</style>\n",
       "<table border=\"1\" class=\"dataframe\">\n",
       "  <thead>\n",
       "    <tr style=\"text-align: right;\">\n",
       "      <th>Offenses Severity</th>\n",
       "      <th>Felony</th>\n",
       "      <th>Misdemeanor</th>\n",
       "    </tr>\n",
       "    <tr>\n",
       "      <th>Gender</th>\n",
       "      <th></th>\n",
       "      <th></th>\n",
       "    </tr>\n",
       "  </thead>\n",
       "  <tbody>\n",
       "    <tr>\n",
       "      <th>F</th>\n",
       "      <td>1380</td>\n",
       "      <td>3592</td>\n",
       "    </tr>\n",
       "    <tr>\n",
       "      <th>M</th>\n",
       "      <td>3823</td>\n",
       "      <td>8950</td>\n",
       "    </tr>\n",
       "  </tbody>\n",
       "</table>\n",
       "</div>"
      ],
      "text/plain": [
       "Offenses Severity  Felony  Misdemeanor\n",
       "Gender                                \n",
       "F                    1380         3592\n",
       "M                    3823         8950"
      ]
     },
     "execution_count": 51,
     "metadata": {},
     "output_type": "execute_result"
    }
   ],
   "source": [
    "gender_crime = crime_df.groupby([\"Offenses Severity\", \"Gender\"])[\"Offenses Severity\"].count().unstack(\"Gender\").fillna(0)\n",
    "del gender_crime ['U']\n",
    "test_summarized = gender_crime.T\n",
    "test_summarized"
   ]
  },
  {
   "cell_type": "code",
   "execution_count": 52,
   "metadata": {},
   "outputs": [
    {
     "data": {
      "text/plain": [
       "(8.064120496510272,\n",
       " 0.004515038620721251,\n",
       " 1,\n",
       " array([[1457.83691181, 3514.16308819],\n",
       "        [3745.16308819, 9027.83691181]]))"
      ]
     },
     "execution_count": 52,
     "metadata": {},
     "output_type": "execute_result"
    }
   ],
   "source": [
    "stats.chi2_contingency(test_summarized.values)"
   ]
  },
  {
   "cell_type": "code",
   "execution_count": null,
   "metadata": {},
   "outputs": [],
   "source": []
  },
  {
   "cell_type": "code",
   "execution_count": null,
   "metadata": {},
   "outputs": [],
   "source": []
  },
  {
   "cell_type": "code",
   "execution_count": null,
   "metadata": {},
   "outputs": [],
   "source": []
  },
  {
   "cell_type": "code",
   "execution_count": null,
   "metadata": {},
   "outputs": [],
   "source": []
  },
  {
   "cell_type": "markdown",
   "metadata": {},
   "source": [
    "# Liam"
   ]
  },
  {
   "cell_type": "code",
   "execution_count": 25,
   "metadata": {},
   "outputs": [
    {
     "data": {
      "text/html": [
       "<div>\n",
       "<style scoped>\n",
       "    .dataframe tbody tr th:only-of-type {\n",
       "        vertical-align: middle;\n",
       "    }\n",
       "\n",
       "    .dataframe tbody tr th {\n",
       "        vertical-align: top;\n",
       "    }\n",
       "\n",
       "    .dataframe thead th {\n",
       "        text-align: right;\n",
       "    }\n",
       "</style>\n",
       "<table border=\"1\" class=\"dataframe\">\n",
       "  <thead>\n",
       "    <tr style=\"text-align: right;\">\n",
       "      <th></th>\n",
       "      <th>Offenses Severity</th>\n",
       "      <th>Arrest Day of Week</th>\n",
       "      <th>Arrest Date</th>\n",
       "      <th>Arrest Month</th>\n",
       "      <th>Arrest Year</th>\n",
       "      <th>Temperature</th>\n",
       "      <th>Weather Condition</th>\n",
       "      <th>Incident Location</th>\n",
       "      <th>Incident Latitude</th>\n",
       "      <th>Incident Longitude</th>\n",
       "      <th>Incident Neighborhood</th>\n",
       "      <th>Incident Zone</th>\n",
       "    </tr>\n",
       "  </thead>\n",
       "  <tbody>\n",
       "    <tr>\n",
       "      <th>0</th>\n",
       "      <td>Misdemeanor</td>\n",
       "      <td>Friday</td>\n",
       "      <td>12</td>\n",
       "      <td>February</td>\n",
       "      <td>2016</td>\n",
       "      <td>20.53</td>\n",
       "      <td>Mostly Cloudy</td>\n",
       "      <td>1100 Block McKinney LANE Pittsburgh, PA 15205</td>\n",
       "      <td>40.423529</td>\n",
       "      <td>-80.035034</td>\n",
       "      <td>Ridgemont</td>\n",
       "      <td>6</td>\n",
       "    </tr>\n",
       "    <tr>\n",
       "      <th>1</th>\n",
       "      <td>Misdemeanor</td>\n",
       "      <td>Wednesday</td>\n",
       "      <td>17</td>\n",
       "      <td>February</td>\n",
       "      <td>2016</td>\n",
       "      <td>32.76</td>\n",
       "      <td>Overcast</td>\n",
       "      <td>800 Block Concord ST Pittsburgh, PA 15212</td>\n",
       "      <td>40.457564</td>\n",
       "      <td>-79.997924</td>\n",
       "      <td>East Allegheny</td>\n",
       "      <td>1</td>\n",
       "    </tr>\n",
       "    <tr>\n",
       "      <th>2</th>\n",
       "      <td>Misdemeanor</td>\n",
       "      <td>Friday</td>\n",
       "      <td>8</td>\n",
       "      <td>April</td>\n",
       "      <td>2016</td>\n",
       "      <td>39.39</td>\n",
       "      <td>Overcast</td>\n",
       "      <td>Boyd ST &amp; Diamond ST Pittsburgh, PA 15219</td>\n",
       "      <td>40.438656</td>\n",
       "      <td>-79.993293</td>\n",
       "      <td>Bluff</td>\n",
       "      <td>2</td>\n",
       "    </tr>\n",
       "    <tr>\n",
       "      <th>3</th>\n",
       "      <td>Misdemeanor</td>\n",
       "      <td>Sunday</td>\n",
       "      <td>10</td>\n",
       "      <td>April</td>\n",
       "      <td>2016</td>\n",
       "      <td>32.63</td>\n",
       "      <td>Overcast</td>\n",
       "      <td>Forbes AV &amp; Armstrong TUN Pittsburgh, PA 15219</td>\n",
       "      <td>40.437971</td>\n",
       "      <td>-79.992052</td>\n",
       "      <td>Bluff</td>\n",
       "      <td>2</td>\n",
       "    </tr>\n",
       "    <tr>\n",
       "      <th>4</th>\n",
       "      <td>Misdemeanor</td>\n",
       "      <td>Tuesday</td>\n",
       "      <td>12</td>\n",
       "      <td>April</td>\n",
       "      <td>2016</td>\n",
       "      <td>47.32</td>\n",
       "      <td>Clear</td>\n",
       "      <td>1600 Block Forbes AV Pittsburgh, PA 15219</td>\n",
       "      <td>40.437377</td>\n",
       "      <td>-79.983870</td>\n",
       "      <td>Bluff</td>\n",
       "      <td>2</td>\n",
       "    </tr>\n",
       "  </tbody>\n",
       "</table>\n",
       "</div>"
      ],
      "text/plain": [
       "  Offenses Severity Arrest Day of Week  Arrest Date Arrest Month  Arrest Year  \\\n",
       "0       Misdemeanor             Friday           12     February         2016   \n",
       "1       Misdemeanor          Wednesday           17     February         2016   \n",
       "2       Misdemeanor             Friday            8        April         2016   \n",
       "3       Misdemeanor             Sunday           10        April         2016   \n",
       "4       Misdemeanor            Tuesday           12        April         2016   \n",
       "\n",
       "   Temperature Weather Condition  \\\n",
       "0        20.53     Mostly Cloudy   \n",
       "1        32.76          Overcast   \n",
       "2        39.39          Overcast   \n",
       "3        32.63          Overcast   \n",
       "4        47.32             Clear   \n",
       "\n",
       "                                Incident Location  Incident Latitude  \\\n",
       "0   1100 Block McKinney LANE Pittsburgh, PA 15205          40.423529   \n",
       "1       800 Block Concord ST Pittsburgh, PA 15212          40.457564   \n",
       "2       Boyd ST & Diamond ST Pittsburgh, PA 15219          40.438656   \n",
       "3  Forbes AV & Armstrong TUN Pittsburgh, PA 15219          40.437971   \n",
       "4       1600 Block Forbes AV Pittsburgh, PA 15219          40.437377   \n",
       "\n",
       "   Incident Longitude Incident Neighborhood Incident Zone  \n",
       "0          -80.035034             Ridgemont             6  \n",
       "1          -79.997924        East Allegheny             1  \n",
       "2          -79.993293                 Bluff             2  \n",
       "3          -79.992052                 Bluff             2  \n",
       "4          -79.983870                 Bluff             2  "
      ]
     },
     "execution_count": 25,
     "metadata": {},
     "output_type": "execute_result"
    }
   ],
   "source": [
    "#Drop irrelevant columns\n",
    "heatmap_DF = crime_df[['Offenses Severity', 'Arrest Day of Week', 'Arrest Date', 'Arrest Month', 'Arrest Year', 'Temperature', 'Weather Condition', 'Incident Location', 'Incident Latitude', 'Incident Longitude', 'Incident Neighborhood', 'Incident Zone']]\n",
    "heatmap_DF.head()"
   ]
  },
  {
   "cell_type": "code",
   "execution_count": 26,
   "metadata": {},
   "outputs": [
    {
     "ename": "ModuleNotFoundError",
     "evalue": "No module named 'geopandas'",
     "output_type": "error",
     "traceback": [
      "\u001b[1;31m---------------------------------------------------------------------------\u001b[0m",
      "\u001b[1;31mModuleNotFoundError\u001b[0m                       Traceback (most recent call last)",
      "\u001b[1;32m<ipython-input-26-584d58a77031>\u001b[0m in \u001b[0;36m<module>\u001b[1;34m\u001b[0m\n\u001b[1;32m----> 1\u001b[1;33m \u001b[1;32mimport\u001b[0m \u001b[0mgeopandas\u001b[0m \u001b[1;32mas\u001b[0m \u001b[0mgpd\u001b[0m\u001b[1;33m\u001b[0m\u001b[1;33m\u001b[0m\u001b[0m\n\u001b[0m\u001b[0;32m      2\u001b[0m \u001b[1;32mimport\u001b[0m \u001b[0mfolium\u001b[0m\u001b[1;33m\u001b[0m\u001b[1;33m\u001b[0m\u001b[0m\n\u001b[0;32m      3\u001b[0m \u001b[1;33m\u001b[0m\u001b[0m\n\u001b[0;32m      4\u001b[0m \u001b[1;31m#Pull Pittsburgh City Borders\u001b[0m\u001b[1;33m\u001b[0m\u001b[1;33m\u001b[0m\u001b[1;33m\u001b[0m\u001b[0m\n\u001b[0;32m      5\u001b[0m \u001b[0mcongr_districts\u001b[0m \u001b[1;33m=\u001b[0m \u001b[0mgpd\u001b[0m\u001b[1;33m.\u001b[0m\u001b[0mread_file\u001b[0m\u001b[1;33m(\u001b[0m\u001b[1;34m\"API call and cleaning/Resources/cb_2015_us_cd114_20m\"\u001b[0m\u001b[1;33m)\u001b[0m\u001b[1;33m\u001b[0m\u001b[1;33m\u001b[0m\u001b[0m\n",
      "\u001b[1;31mModuleNotFoundError\u001b[0m: No module named 'geopandas'"
     ]
    }
   ],
   "source": [
    "import geopandas as gpd\n",
    "import folium\n",
    "\n",
    "#Pull Pittsburgh City Borders\n",
    "congr_districts = gpd.read_file(\"API call and cleaning/Resources/cb_2015_us_cd114_20m\")\n",
    "congr_districts.crs = {'datum': 'NAD83', 'ellps': 'GRS80', 'proj':'longlat', 'no_defs':True}\n",
    "\n",
    "district14 = congr_districts[ congr_districts.GEOID == '4214' ]  # 42 = PA, 14 = District\n",
    "\n",
    "#Create folium map config\n",
    "distric_map = folium.Map(location=[40, -80], zoom_start=9, tiles='cartodbpositron' )\n",
    "print('default map crs: ',distric_map.crs)"
   ]
  },
  {
   "cell_type": "code",
   "execution_count": 39,
   "metadata": {},
   "outputs": [
    {
     "ename": "NameError",
     "evalue": "name 'folium' is not defined",
     "output_type": "error",
     "traceback": [
      "\u001b[1;31m---------------------------------------------------------------------------\u001b[0m",
      "\u001b[1;31mNameError\u001b[0m                                 Traceback (most recent call last)",
      "\u001b[1;32m<ipython-input-39-83ba18b0d22e>\u001b[0m in \u001b[0;36m<module>\u001b[1;34m\u001b[0m\n\u001b[0;32m      1\u001b[0m \u001b[1;31m#Create Folium Map\u001b[0m\u001b[1;33m\u001b[0m\u001b[1;33m\u001b[0m\u001b[1;33m\u001b[0m\u001b[0m\n\u001b[1;32m----> 2\u001b[1;33m \u001b[0mfolium\u001b[0m\u001b[1;33m.\u001b[0m\u001b[0mGeoJson\u001b[0m\u001b[1;33m(\u001b[0m\u001b[0mdistrict14\u001b[0m\u001b[1;33m)\u001b[0m\u001b[1;33m.\u001b[0m\u001b[0madd_to\u001b[0m\u001b[1;33m(\u001b[0m\u001b[0mdistric_map\u001b[0m\u001b[1;33m)\u001b[0m\u001b[1;33m\u001b[0m\u001b[1;33m\u001b[0m\u001b[0m\n\u001b[0m\u001b[0;32m      3\u001b[0m \u001b[0mdistric_map\u001b[0m\u001b[1;33m\u001b[0m\u001b[1;33m\u001b[0m\u001b[0m\n",
      "\u001b[1;31mNameError\u001b[0m: name 'folium' is not defined"
     ]
    }
   ],
   "source": [
    "#Create Folium Map\n",
    "folium.GeoJson(district14).add_to(distric_map)\n",
    "distric_map"
   ]
  },
  {
   "cell_type": "code",
   "execution_count": 41,
   "metadata": {},
   "outputs": [
    {
     "name": "stderr",
     "output_type": "stream",
     "text": [
      "C:\\Users\\emame\\Anaconda3\\lib\\site-packages\\ipykernel_launcher.py:1: SettingWithCopyWarning: \n",
      "A value is trying to be set on a copy of a slice from a DataFrame.\n",
      "Try using .loc[row_indexer,col_indexer] = value instead\n",
      "\n",
      "See the caveats in the documentation: http://pandas.pydata.org/pandas-docs/stable/indexing.html#indexing-view-versus-copy\n",
      "  \"\"\"Entry point for launching an IPython kernel.\n",
      "C:\\Users\\emame\\Anaconda3\\lib\\site-packages\\ipykernel_launcher.py:2: SettingWithCopyWarning: \n",
      "A value is trying to be set on a copy of a slice from a DataFrame.\n",
      "Try using .loc[row_indexer,col_indexer] = value instead\n",
      "\n",
      "See the caveats in the documentation: http://pandas.pydata.org/pandas-docs/stable/indexing.html#indexing-view-versus-copy\n",
      "  \n"
     ]
    },
    {
     "data": {
      "text/html": [
       "<div>\n",
       "<style scoped>\n",
       "    .dataframe tbody tr th:only-of-type {\n",
       "        vertical-align: middle;\n",
       "    }\n",
       "\n",
       "    .dataframe tbody tr th {\n",
       "        vertical-align: top;\n",
       "    }\n",
       "\n",
       "    .dataframe thead th {\n",
       "        text-align: right;\n",
       "    }\n",
       "</style>\n",
       "<table border=\"1\" class=\"dataframe\">\n",
       "  <thead>\n",
       "    <tr style=\"text-align: right;\">\n",
       "      <th></th>\n",
       "      <th>Rounded Lat</th>\n",
       "      <th>Rounded Long</th>\n",
       "      <th>Offenses Severity</th>\n",
       "      <th>Arrest Day of Week</th>\n",
       "      <th>Arrest Date</th>\n",
       "      <th>Arrest Month</th>\n",
       "      <th>Arrest Year</th>\n",
       "      <th>Temperature</th>\n",
       "      <th>Weather Condition</th>\n",
       "      <th>Incident Location</th>\n",
       "      <th>Incident Latitude</th>\n",
       "      <th>Incident Longitude</th>\n",
       "      <th>Incident Neighborhood</th>\n",
       "      <th>Incident Zone</th>\n",
       "    </tr>\n",
       "  </thead>\n",
       "  <tbody>\n",
       "    <tr>\n",
       "      <th>0</th>\n",
       "      <td>0.0000</td>\n",
       "      <td>0.0000</td>\n",
       "      <td>1041</td>\n",
       "      <td>1041</td>\n",
       "      <td>1041</td>\n",
       "      <td>1041</td>\n",
       "      <td>1041</td>\n",
       "      <td>1041</td>\n",
       "      <td>1041</td>\n",
       "      <td>1041</td>\n",
       "      <td>1041</td>\n",
       "      <td>1041</td>\n",
       "      <td>1041</td>\n",
       "      <td>1041</td>\n",
       "    </tr>\n",
       "    <tr>\n",
       "      <th>1</th>\n",
       "      <td>39.7538</td>\n",
       "      <td>-78.6783</td>\n",
       "      <td>1</td>\n",
       "      <td>1</td>\n",
       "      <td>1</td>\n",
       "      <td>1</td>\n",
       "      <td>1</td>\n",
       "      <td>1</td>\n",
       "      <td>1</td>\n",
       "      <td>1</td>\n",
       "      <td>1</td>\n",
       "      <td>1</td>\n",
       "      <td>1</td>\n",
       "      <td>1</td>\n",
       "    </tr>\n",
       "    <tr>\n",
       "      <th>2</th>\n",
       "      <td>39.9900</td>\n",
       "      <td>-75.7820</td>\n",
       "      <td>1</td>\n",
       "      <td>1</td>\n",
       "      <td>1</td>\n",
       "      <td>1</td>\n",
       "      <td>1</td>\n",
       "      <td>1</td>\n",
       "      <td>1</td>\n",
       "      <td>1</td>\n",
       "      <td>1</td>\n",
       "      <td>1</td>\n",
       "      <td>1</td>\n",
       "      <td>1</td>\n",
       "    </tr>\n",
       "    <tr>\n",
       "      <th>3</th>\n",
       "      <td>40.1800</td>\n",
       "      <td>-80.2377</td>\n",
       "      <td>1</td>\n",
       "      <td>1</td>\n",
       "      <td>1</td>\n",
       "      <td>1</td>\n",
       "      <td>1</td>\n",
       "      <td>1</td>\n",
       "      <td>1</td>\n",
       "      <td>1</td>\n",
       "      <td>1</td>\n",
       "      <td>1</td>\n",
       "      <td>1</td>\n",
       "      <td>1</td>\n",
       "    </tr>\n",
       "    <tr>\n",
       "      <th>4</th>\n",
       "      <td>40.3126</td>\n",
       "      <td>-80.0830</td>\n",
       "      <td>2</td>\n",
       "      <td>2</td>\n",
       "      <td>2</td>\n",
       "      <td>2</td>\n",
       "      <td>2</td>\n",
       "      <td>2</td>\n",
       "      <td>2</td>\n",
       "      <td>2</td>\n",
       "      <td>2</td>\n",
       "      <td>2</td>\n",
       "      <td>2</td>\n",
       "      <td>2</td>\n",
       "    </tr>\n",
       "  </tbody>\n",
       "</table>\n",
       "</div>"
      ],
      "text/plain": [
       "   Rounded Lat  Rounded Long  Offenses Severity  Arrest Day of Week  \\\n",
       "0       0.0000        0.0000               1041                1041   \n",
       "1      39.7538      -78.6783                  1                   1   \n",
       "2      39.9900      -75.7820                  1                   1   \n",
       "3      40.1800      -80.2377                  1                   1   \n",
       "4      40.3126      -80.0830                  2                   2   \n",
       "\n",
       "   Arrest Date  Arrest Month  Arrest Year  Temperature  Weather Condition  \\\n",
       "0         1041          1041         1041         1041               1041   \n",
       "1            1             1            1            1                  1   \n",
       "2            1             1            1            1                  1   \n",
       "3            1             1            1            1                  1   \n",
       "4            2             2            2            2                  2   \n",
       "\n",
       "   Incident Location  Incident Latitude  Incident Longitude  \\\n",
       "0               1041               1041                1041   \n",
       "1                  1                  1                   1   \n",
       "2                  1                  1                   1   \n",
       "3                  1                  1                   1   \n",
       "4                  2                  2                   2   \n",
       "\n",
       "   Incident Neighborhood  Incident Zone  \n",
       "0                   1041           1041  \n",
       "1                      1              1  \n",
       "2                      1              1  \n",
       "3                      1              1  \n",
       "4                      2              2  "
      ]
     },
     "execution_count": 41,
     "metadata": {},
     "output_type": "execute_result"
    }
   ],
   "source": [
    "heatmap_DF[\"Rounded Lat\"] = round(heatmap_DF[\"Incident Latitude\"], 4)\n",
    "heatmap_DF[\"Rounded Long\"] = round(heatmap_DF[\"Incident Longitude\"], 4)\n",
    "heatmap_DF2 = heatmap_DF.groupby([\"Rounded Lat\", \"Rounded Long\"]).count()\n",
    "heatmap_DF2 = heatmap_DF2.reset_index()\n",
    "heatmap_DF2.head()"
   ]
  },
  {
   "cell_type": "code",
   "execution_count": 42,
   "metadata": {},
   "outputs": [
    {
     "ename": "ModuleNotFoundError",
     "evalue": "No module named 'folium'",
     "output_type": "error",
     "traceback": [
      "\u001b[1;31m---------------------------------------------------------------------------\u001b[0m",
      "\u001b[1;31mModuleNotFoundError\u001b[0m                       Traceback (most recent call last)",
      "\u001b[1;32m<ipython-input-42-ed74344d983b>\u001b[0m in \u001b[0;36m<module>\u001b[1;34m\u001b[0m\n\u001b[1;32m----> 1\u001b[1;33m \u001b[1;32mimport\u001b[0m \u001b[0mfolium\u001b[0m\u001b[1;33m\u001b[0m\u001b[1;33m\u001b[0m\u001b[0m\n\u001b[0m\u001b[0;32m      2\u001b[0m \u001b[1;32mfrom\u001b[0m \u001b[0mfolium\u001b[0m\u001b[1;33m.\u001b[0m\u001b[0mplugins\u001b[0m \u001b[1;32mimport\u001b[0m \u001b[0mHeatMap\u001b[0m\u001b[1;33m\u001b[0m\u001b[1;33m\u001b[0m\u001b[0m\n\u001b[0;32m      3\u001b[0m \u001b[1;33m\u001b[0m\u001b[0m\n\u001b[0;32m      4\u001b[0m \u001b[1;31m#Create heatmap, base column doesnt matter\u001b[0m\u001b[1;33m\u001b[0m\u001b[1;33m\u001b[0m\u001b[1;33m\u001b[0m\u001b[0m\n\u001b[0;32m      5\u001b[0m \u001b[0mmax_amount\u001b[0m \u001b[1;33m=\u001b[0m \u001b[0mfloat\u001b[0m\u001b[1;33m(\u001b[0m\u001b[0mheatmap_DF2\u001b[0m\u001b[1;33m[\u001b[0m\u001b[1;34m\"Temperature\"\u001b[0m\u001b[1;33m]\u001b[0m\u001b[1;33m.\u001b[0m\u001b[0mmax\u001b[0m\u001b[1;33m(\u001b[0m\u001b[1;33m)\u001b[0m\u001b[1;33m)\u001b[0m\u001b[1;33m\u001b[0m\u001b[1;33m\u001b[0m\u001b[0m\n",
      "\u001b[1;31mModuleNotFoundError\u001b[0m: No module named 'folium'"
     ]
    }
   ],
   "source": [
    "import folium\n",
    "from folium.plugins import HeatMap\n",
    "\n",
    "#Create heatmap, base column doesnt matter\n",
    "max_amount = float(heatmap_DF2[\"Temperature\"].max())\n",
    "\n",
    "hmap = folium.Map(location=[40.45, -80], zoom_start=12, )\n",
    "\n",
    "hm_wide = HeatMap( list(zip(heatmap_DF2[\"Rounded Lat\"].values, heatmap_DF2[\"Rounded Long\"].values, heatmap_DF2.Temperature.values)), \n",
    "                   min_opacity=0.2,\n",
    "                   max_val=max_amount,\n",
    "                   radius=17, blur=15, \n",
    "                   max_zoom=1, \n",
    "                 )\n",
    "\n",
    "folium.GeoJson(district14).add_to(hmap)\n",
    "hmap.add_child(hm_wide)"
   ]
  },
  {
   "cell_type": "code",
   "execution_count": 43,
   "metadata": {},
   "outputs": [
    {
     "data": {
      "text/html": [
       "<div>\n",
       "<style scoped>\n",
       "    .dataframe tbody tr th:only-of-type {\n",
       "        vertical-align: middle;\n",
       "    }\n",
       "\n",
       "    .dataframe tbody tr th {\n",
       "        vertical-align: top;\n",
       "    }\n",
       "\n",
       "    .dataframe thead th {\n",
       "        text-align: right;\n",
       "    }\n",
       "</style>\n",
       "<table border=\"1\" class=\"dataframe\">\n",
       "  <thead>\n",
       "    <tr style=\"text-align: right;\">\n",
       "      <th></th>\n",
       "      <th>Offenses Severity</th>\n",
       "      <th>Arrest Day of Week</th>\n",
       "      <th>Arrest Date</th>\n",
       "      <th>Arrest Month</th>\n",
       "      <th>Arrest Year</th>\n",
       "      <th>Temperature</th>\n",
       "      <th>Weather Condition</th>\n",
       "      <th>Incident Location</th>\n",
       "      <th>Incident Latitude</th>\n",
       "      <th>Incident Longitude</th>\n",
       "      <th>Incident Neighborhood</th>\n",
       "      <th>Incident Zone</th>\n",
       "      <th>Rounded Lat</th>\n",
       "      <th>Rounded Long</th>\n",
       "    </tr>\n",
       "  </thead>\n",
       "  <tbody>\n",
       "  </tbody>\n",
       "</table>\n",
       "</div>"
      ],
      "text/plain": [
       "Empty DataFrame\n",
       "Columns: [Offenses Severity, Arrest Day of Week, Arrest Date, Arrest Month, Arrest Year, Temperature, Weather Condition, Incident Location, Incident Latitude, Incident Longitude, Incident Neighborhood, Incident Zone, Rounded Lat, Rounded Long]\n",
       "Index: []"
      ]
     },
     "execution_count": 43,
     "metadata": {},
     "output_type": "execute_result"
    }
   ],
   "source": [
    "#Pull Misdemeanors\n",
    "heatmap_DFM = heatmap_DF.loc[heatmap_DF[\"Offenses Severity\"] == \"M\"]\n",
    "heatmap_DFM.head()"
   ]
  },
  {
   "cell_type": "code",
   "execution_count": null,
   "metadata": {},
   "outputs": [],
   "source": [
    "#Group\n",
    "heatmap_DFM = heatmap_DFM.groupby([\"Rounded Lat\", \"Rounded Long\"]).count()\n",
    "heatmap_DFM = heatmap_DFM.reset_index()\n",
    "heatmap_DFM.head()"
   ]
  },
  {
   "cell_type": "code",
   "execution_count": 44,
   "metadata": {},
   "outputs": [
    {
     "ename": "NameError",
     "evalue": "name 'folium' is not defined",
     "output_type": "error",
     "traceback": [
      "\u001b[1;31m---------------------------------------------------------------------------\u001b[0m",
      "\u001b[1;31mNameError\u001b[0m                                 Traceback (most recent call last)",
      "\u001b[1;32m<ipython-input-44-ed276d732f97>\u001b[0m in \u001b[0;36m<module>\u001b[1;34m\u001b[0m\n\u001b[0;32m      2\u001b[0m \u001b[0mmax_amount\u001b[0m \u001b[1;33m=\u001b[0m \u001b[0mfloat\u001b[0m\u001b[1;33m(\u001b[0m\u001b[0mheatmap_DFM\u001b[0m\u001b[1;33m[\u001b[0m\u001b[1;34m\"Offenses Severity\"\u001b[0m\u001b[1;33m]\u001b[0m\u001b[1;33m.\u001b[0m\u001b[0mmax\u001b[0m\u001b[1;33m(\u001b[0m\u001b[1;33m)\u001b[0m\u001b[1;33m)\u001b[0m\u001b[1;33m\u001b[0m\u001b[1;33m\u001b[0m\u001b[0m\n\u001b[0;32m      3\u001b[0m \u001b[1;33m\u001b[0m\u001b[0m\n\u001b[1;32m----> 4\u001b[1;33m \u001b[0mhmap\u001b[0m \u001b[1;33m=\u001b[0m \u001b[0mfolium\u001b[0m\u001b[1;33m.\u001b[0m\u001b[0mMap\u001b[0m\u001b[1;33m(\u001b[0m\u001b[0mlocation\u001b[0m\u001b[1;33m=\u001b[0m\u001b[1;33m[\u001b[0m\u001b[1;36m40.45\u001b[0m\u001b[1;33m,\u001b[0m \u001b[1;33m-\u001b[0m\u001b[1;36m80\u001b[0m\u001b[1;33m]\u001b[0m\u001b[1;33m,\u001b[0m \u001b[0mzoom_start\u001b[0m\u001b[1;33m=\u001b[0m\u001b[1;36m12\u001b[0m\u001b[1;33m,\u001b[0m \u001b[1;33m)\u001b[0m\u001b[1;33m\u001b[0m\u001b[1;33m\u001b[0m\u001b[0m\n\u001b[0m\u001b[0;32m      5\u001b[0m \u001b[1;33m\u001b[0m\u001b[0m\n\u001b[0;32m      6\u001b[0m hm_wide = HeatMap( list(zip(heatmap_DFM[\"Rounded Lat\"].values, heatmap_DFM[\"Rounded Long\"].values, heatmap_DFM[\"Offenses Severity\"].values)), \n",
      "\u001b[1;31mNameError\u001b[0m: name 'folium' is not defined"
     ]
    }
   ],
   "source": [
    "#For Misdemeanors\n",
    "max_amount = float(heatmap_DFM[\"Offenses Severity\"].max())\n",
    "\n",
    "hmap = folium.Map(location=[40.45, -80], zoom_start=12, )\n",
    "\n",
    "hm_wide = HeatMap( list(zip(heatmap_DFM[\"Rounded Lat\"].values, heatmap_DFM[\"Rounded Long\"].values, heatmap_DFM[\"Offenses Severity\"].values)), \n",
    "                   min_opacity=0.2,\n",
    "                   max_val=max_amount,\n",
    "                   radius=17, blur=15, \n",
    "                   max_zoom=1, \n",
    "                 )\n",
    "\n",
    "folium.GeoJson(district14).add_to(hmap)\n",
    "hmap.add_child(hm_wide)"
   ]
  },
  {
   "cell_type": "code",
   "execution_count": 45,
   "metadata": {},
   "outputs": [
    {
     "data": {
      "text/html": [
       "<div>\n",
       "<style scoped>\n",
       "    .dataframe tbody tr th:only-of-type {\n",
       "        vertical-align: middle;\n",
       "    }\n",
       "\n",
       "    .dataframe tbody tr th {\n",
       "        vertical-align: top;\n",
       "    }\n",
       "\n",
       "    .dataframe thead th {\n",
       "        text-align: right;\n",
       "    }\n",
       "</style>\n",
       "<table border=\"1\" class=\"dataframe\">\n",
       "  <thead>\n",
       "    <tr style=\"text-align: right;\">\n",
       "      <th></th>\n",
       "      <th>Offenses Severity</th>\n",
       "      <th>Arrest Day of Week</th>\n",
       "      <th>Arrest Date</th>\n",
       "      <th>Arrest Month</th>\n",
       "      <th>Arrest Year</th>\n",
       "      <th>Temperature</th>\n",
       "      <th>Weather Condition</th>\n",
       "      <th>Incident Location</th>\n",
       "      <th>Incident Latitude</th>\n",
       "      <th>Incident Longitude</th>\n",
       "      <th>Incident Neighborhood</th>\n",
       "      <th>Incident Zone</th>\n",
       "      <th>Rounded Lat</th>\n",
       "      <th>Rounded Long</th>\n",
       "    </tr>\n",
       "  </thead>\n",
       "  <tbody>\n",
       "  </tbody>\n",
       "</table>\n",
       "</div>"
      ],
      "text/plain": [
       "Empty DataFrame\n",
       "Columns: [Offenses Severity, Arrest Day of Week, Arrest Date, Arrest Month, Arrest Year, Temperature, Weather Condition, Incident Location, Incident Latitude, Incident Longitude, Incident Neighborhood, Incident Zone, Rounded Lat, Rounded Long]\n",
       "Index: []"
      ]
     },
     "execution_count": 45,
     "metadata": {},
     "output_type": "execute_result"
    }
   ],
   "source": [
    "#Pull Felonies\n",
    "heatmap_DFF = heatmap_DF.loc[heatmap_DF[\"Offenses Severity\"] == \"F\"]\n",
    "heatmap_DFF.head()"
   ]
  },
  {
   "cell_type": "code",
   "execution_count": 46,
   "metadata": {},
   "outputs": [
    {
     "data": {
      "text/html": [
       "<div>\n",
       "<style scoped>\n",
       "    .dataframe tbody tr th:only-of-type {\n",
       "        vertical-align: middle;\n",
       "    }\n",
       "\n",
       "    .dataframe tbody tr th {\n",
       "        vertical-align: top;\n",
       "    }\n",
       "\n",
       "    .dataframe thead th {\n",
       "        text-align: right;\n",
       "    }\n",
       "</style>\n",
       "<table border=\"1\" class=\"dataframe\">\n",
       "  <thead>\n",
       "    <tr style=\"text-align: right;\">\n",
       "      <th></th>\n",
       "      <th>Rounded Lat</th>\n",
       "      <th>Rounded Long</th>\n",
       "      <th>Offenses Severity</th>\n",
       "      <th>Arrest Day of Week</th>\n",
       "      <th>Arrest Date</th>\n",
       "      <th>Arrest Month</th>\n",
       "      <th>Arrest Year</th>\n",
       "      <th>Temperature</th>\n",
       "      <th>Weather Condition</th>\n",
       "      <th>Incident Location</th>\n",
       "      <th>Incident Latitude</th>\n",
       "      <th>Incident Longitude</th>\n",
       "      <th>Incident Neighborhood</th>\n",
       "      <th>Incident Zone</th>\n",
       "    </tr>\n",
       "  </thead>\n",
       "  <tbody>\n",
       "  </tbody>\n",
       "</table>\n",
       "</div>"
      ],
      "text/plain": [
       "Empty DataFrame\n",
       "Columns: [Rounded Lat, Rounded Long, Offenses Severity, Arrest Day of Week, Arrest Date, Arrest Month, Arrest Year, Temperature, Weather Condition, Incident Location, Incident Latitude, Incident Longitude, Incident Neighborhood, Incident Zone]\n",
       "Index: []"
      ]
     },
     "execution_count": 46,
     "metadata": {},
     "output_type": "execute_result"
    }
   ],
   "source": [
    "#Group\n",
    "heatmap_DFF = heatmap_DFF.groupby([\"Rounded Lat\", \"Rounded Long\"]).count()\n",
    "heatmap_DFF = heatmap_DFF.reset_index()\n",
    "heatmap_DFF.head()"
   ]
  },
  {
   "cell_type": "code",
   "execution_count": 47,
   "metadata": {},
   "outputs": [
    {
     "ename": "NameError",
     "evalue": "name 'folium' is not defined",
     "output_type": "error",
     "traceback": [
      "\u001b[1;31m---------------------------------------------------------------------------\u001b[0m",
      "\u001b[1;31mNameError\u001b[0m                                 Traceback (most recent call last)",
      "\u001b[1;32m<ipython-input-47-88cf3c49fac0>\u001b[0m in \u001b[0;36m<module>\u001b[1;34m\u001b[0m\n\u001b[0;32m      2\u001b[0m \u001b[0mmax_amount\u001b[0m \u001b[1;33m=\u001b[0m \u001b[0mfloat\u001b[0m\u001b[1;33m(\u001b[0m\u001b[0mheatmap_DFF\u001b[0m\u001b[1;33m[\u001b[0m\u001b[1;34m\"Offenses Severity\"\u001b[0m\u001b[1;33m]\u001b[0m\u001b[1;33m.\u001b[0m\u001b[0mmax\u001b[0m\u001b[1;33m(\u001b[0m\u001b[1;33m)\u001b[0m\u001b[1;33m)\u001b[0m\u001b[1;33m\u001b[0m\u001b[1;33m\u001b[0m\u001b[0m\n\u001b[0;32m      3\u001b[0m \u001b[1;33m\u001b[0m\u001b[0m\n\u001b[1;32m----> 4\u001b[1;33m \u001b[0mhmap\u001b[0m \u001b[1;33m=\u001b[0m \u001b[0mfolium\u001b[0m\u001b[1;33m.\u001b[0m\u001b[0mMap\u001b[0m\u001b[1;33m(\u001b[0m\u001b[0mlocation\u001b[0m\u001b[1;33m=\u001b[0m\u001b[1;33m[\u001b[0m\u001b[1;36m40.45\u001b[0m\u001b[1;33m,\u001b[0m \u001b[1;33m-\u001b[0m\u001b[1;36m80\u001b[0m\u001b[1;33m]\u001b[0m\u001b[1;33m,\u001b[0m \u001b[0mzoom_start\u001b[0m\u001b[1;33m=\u001b[0m\u001b[1;36m12\u001b[0m\u001b[1;33m,\u001b[0m \u001b[1;33m)\u001b[0m\u001b[1;33m\u001b[0m\u001b[1;33m\u001b[0m\u001b[0m\n\u001b[0m\u001b[0;32m      5\u001b[0m \u001b[1;33m\u001b[0m\u001b[0m\n\u001b[0;32m      6\u001b[0m hm_wide = HeatMap( list(zip(heatmap_DFF[\"Rounded Lat\"].values, heatmap_DFF[\"Rounded Long\"].values, heatmap_DFF[\"Offenses Severity\"].values)), \n",
      "\u001b[1;31mNameError\u001b[0m: name 'folium' is not defined"
     ]
    }
   ],
   "source": [
    "#For Felonies\n",
    "max_amount = float(heatmap_DFF[\"Offenses Severity\"].max())\n",
    "\n",
    "hmap = folium.Map(location=[40.45, -80], zoom_start=12, )\n",
    "\n",
    "hm_wide = HeatMap( list(zip(heatmap_DFF[\"Rounded Lat\"].values, heatmap_DFF[\"Rounded Long\"].values, heatmap_DFF[\"Offenses Severity\"].values)), \n",
    "                   min_opacity=0.2,\n",
    "                   max_val=max_amount,\n",
    "                   radius=17, blur=15, \n",
    "                   max_zoom=1, \n",
    "                 )\n",
    "\n",
    "folium.GeoJson(district14).add_to(hmap)\n",
    "hmap.add_child(hm_wide)"
   ]
  }
 ],
 "metadata": {
  "kernelspec": {
   "display_name": "Python 3",
   "language": "python",
   "name": "python3"
  },
  "language_info": {
   "codemirror_mode": {
    "name": "ipython",
    "version": 3
   },
   "file_extension": ".py",
   "mimetype": "text/x-python",
   "name": "python",
   "nbconvert_exporter": "python",
   "pygments_lexer": "ipython3",
   "version": "3.7.1"
  }
 },
 "nbformat": 4,
 "nbformat_minor": 2
}
